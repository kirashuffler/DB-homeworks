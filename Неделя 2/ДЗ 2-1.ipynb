{
 "cells": [
  {
   "cell_type": "markdown",
   "metadata": {},
   "source": [
    "Данное домашнее задание посвящено схеме базе данных, связанной с футбольным командами. Схема расположена в hw_diagram.jpg\n",
    "## Описание таблиц \n",
    "\n",
    "### Positions \n",
    "Позиции игроков\n",
    "id - уникальный идентификатор позиции \n",
    "Name - Название таблицы \n",
    "\n",
    "### Coaches \n",
    "Таблица тренеров \n",
    "id - уникальный идентификатор тренера\n",
    "Name - имя тренера \n",
    "\n",
    "## Teams \n",
    "Таблица команд \n",
    "id - уникальный идентификатор  команды \n",
    "Name - имя команды \n",
    "Location - расположение команды \n",
    "Coach_id - идентификатор тренера \n",
    "\n",
    "### Players \n",
    "Таблица игроков \n",
    "Id - уникальный идентификатор игрока \n",
    "Name - имя игрока \n",
    "Age - возраст игрока \n",
    "Position_id - идентификатор позиции \n",
    "Team_id - идентификатор команды \n",
    "Start_date - дата начала игры в команде \n",
    "\n",
    "### PlayersArchive \n",
    "Архив по игрокам (информация о том, в какой команде игрок играл ранее) \n",
    "player_id - идентификатор игрока \n",
    "team_id - идентификатор команды \n",
    "start_date - дата начала игры \n",
    "end_date - дата окончания игры"
   ]
  },
  {
   "cell_type": "markdown",
   "metadata": {},
   "source": [
    "# Задание 1\n",
    "Реализовать перенакатываемые sql-скрипты по схеме hw_diagram, приложенного ниже."
   ]
  },
  {
   "cell_type": "code",
   "execution_count": 4,
   "metadata": {
    "collapsed": false
   },
   "outputs": [
    {
     "data": {
      "text/plain": [
       "'Connected: @test1.db'"
      ]
     },
     "execution_count": 4,
     "metadata": {},
     "output_type": "execute_result"
    }
   ],
   "source": [
    "%load_ext sql\n",
    "%sql sqlite:///test1.db"
   ]
  },
  {
   "cell_type": "code",
   "execution_count": 2,
   "metadata": {
    "collapsed": false
   },
   "outputs": [
    {
     "name": "stdout",
     "output_type": "stream",
     "text": [
      " * sqlite:///test1.db\n",
      "0 rows affected.\n",
      "0 rows affected.\n",
      "0 rows affected.\n",
      "0 rows affected.\n",
      "0 rows affected.\n",
      "0 rows affected.\n",
      "0 rows affected.\n",
      "0 rows affected.\n",
      "0 rows affected.\n",
      "0 rows affected.\n"
     ]
    },
    {
     "data": {
      "text/plain": [
       "[]"
      ]
     },
     "execution_count": 2,
     "metadata": {},
     "output_type": "execute_result"
    }
   ],
   "source": [
    "%%sql\n",
    "DROP TABLE if exists PlayersArchive;\n",
    "DROP TABLE if exists Coaches;\n",
    "DROP TABLE if exists Players;\n",
    "DROP TABLE if exists Teams;\n",
    "DROP TABLE if exists Positions;\n",
    "\n",
    "CREATE TABLE Positions(id integer(0,0) NOT NULL PRIMARY KEY, Name varchar(0,0));\n",
    "CREATE TABLE Teams(id integer(0,0) NOT NULL PRIMARY KEY, Name varchar(0,0),\n",
    "                   Location varchar(0,0), Coach_id varchar(0,0), FOREIGN KEY (Coach_id) REFERENCES Coaches(id));\n",
    "CREATE TABLE Players(id integer(0,0) NOT NULL PRIMARY KEY, Name varchar(0,0), Age integer(0,0), Position_id varchar(0,0) NOT NULL,\n",
    "                     Team_id varchar(0,0) NOT NULL, Start_date integer(0,0),\n",
    "                     FOREIGN KEY (Position_id) REFERENCES Positions(id),\n",
    "                     FOREIGN KEY (Team_id) REFERENCES Teams(id));\n",
    "CREATE TABLE Coaches(id integer(0,0) PRIMARY KEY, name varchar(0,0));\n",
    "CREATE TABLE PlayersArchive(Player_id varchar(0,0), Team_id varchar(0,0), start_date integer(0,0), end_date integer(0,0),\n",
    "                     FOREIGN KEY (Player_id) REFERENCES Players(id),\n",
    "                     FOREIGN KEY (Team_id) REFERENCES Teams(id));"
   ]
  },
  {
   "cell_type": "markdown",
   "metadata": {},
   "source": [
    "# Задание 2\n",
    "Написать sql-скрипт, осуществляюший добавление всех возможных позиций игроков. (В данной задаче можно ограничится четырьмя - вратарь, защитник, полузащитник, нападающий)"
   ]
  },
  {
   "cell_type": "code",
   "execution_count": 3,
   "metadata": {
    "collapsed": false
   },
   "outputs": [
    {
     "name": "stdout",
     "output_type": "stream",
     "text": [
      " * sqlite:///test1.db\n",
      "1 rows affected.\n",
      "1 rows affected.\n",
      "1 rows affected.\n",
      "1 rows affected.\n"
     ]
    },
    {
     "data": {
      "text/plain": [
       "[]"
      ]
     },
     "execution_count": 3,
     "metadata": {},
     "output_type": "execute_result"
    }
   ],
   "source": [
    "%%sql\n",
    "INSERT INTO Positions VALUES (1, 'goalkeeper');\n",
    "INSERT INTO Positions VALUES (2, 'defender');\n",
    "INSERT INTO Positions VALUES (3, 'midfielder');\n",
    "INSERT INTO Positions VALUES (4, 'forward');"
   ]
  },
  {
   "cell_type": "markdown",
   "metadata": {},
   "source": [
    "# Задание 3\n",
    "Написать функцию, осуществляющую добавление тренера. На вход функции подается имя тренера. При невозможности вставки функция должна обработать данное исключение и вывести пользователю информацию о проблеме\n",
    "\n",
    "После написания функции необходимо добавить несколько тренеров для таблицы."
   ]
  },
  {
   "cell_type": "code",
   "execution_count": 4,
   "metadata": {
    "collapsed": true
   },
   "outputs": [],
   "source": [
    "import sqlite3\n",
    "db=sqlite3.connect('test1.db')\n",
    "def check_coach(name):\n",
    "    cur = db.cursor()\n",
    "    cur.execute('''select id from Coaches where name = ?''', (name,))\n",
    "    try:\n",
    "        ID = cur.fetchone()[0]\n",
    "        return ID\n",
    "    except TypeError:\n",
    "        print('Not found name', name)\n",
    "        return -1\n",
    "    \n",
    "def insert_coach(Name):\n",
    "    chk_chc = check_coach(Name)\n",
    "    if chk_chc != -1:\n",
    "        print('This coach was added before')\n",
    "        return -1\n",
    "    cur = db.cursor()\n",
    "    cur.execute( '''\n",
    "    SELECT COALESCE(MAX(id)+1, 1) FROM Coaches''')\n",
    "    ID = cur.fetchone()[0]\n",
    "    cur.execute('''\n",
    "        INSERT INTO Coaches(id, name) VALUES(?,?)''', (ID,Name))\n",
    "    db.commit()\n",
    "\n"
   ]
  },
  {
   "cell_type": "code",
   "execution_count": 5,
   "metadata": {
    "collapsed": false
   },
   "outputs": [
    {
     "name": "stdout",
     "output_type": "stream",
     "text": [
      "Not found name SDBurn\n",
      "Not found name Jayne\n",
      "Not found name Kim-Won\n",
      "Not found name Sung-Khi\n"
     ]
    }
   ],
   "source": [
    "insert_coach('SDBurn')\n",
    "insert_coach('Jayne')\n",
    "insert_coach('Kim-Won')\n",
    "insert_coach('Sung-Khi')"
   ]
  },
  {
   "cell_type": "markdown",
   "metadata": {},
   "source": [
    "# Задание 4\n",
    "\n",
    "Написать функцию, осуществляющую добавление команды. На вход функция принимает (имя команды, местоположение, имя тренера).\n",
    "На выходе должна быть добавлена команда.\n",
    "\n",
    "После написания функции необходимо добавить несколько команд"
   ]
  },
  {
   "cell_type": "code",
   "execution_count": null,
   "metadata": {
    "collapsed": true
   },
   "outputs": [],
   "source": [
    "%%sql\n"
   ]
  },
  {
   "cell_type": "code",
   "execution_count": 6,
   "metadata": {
    "collapsed": false
   },
   "outputs": [],
   "source": [
    "def check_team(team_name):\n",
    "    cur=db.cursor()\n",
    "    cur.execute('''select id from teams where name =?''',(team_name,))\n",
    "    try:\n",
    "        team_id=cur.fetchone()[0]\n",
    "        print('Team',team_name, 'already exist')\n",
    "        return team_id\n",
    "    except TypeError:\n",
    "        return -1\n",
    "    \n",
    "def ID_Coach(coach_name):\n",
    "    cur=db.cursor()\n",
    "    cur.execute('''select id from coaches where name =?''',(coach_name,))\n",
    "    try:\n",
    "        coach_id=cur.fetchone()[0]\n",
    "        return coach_id\n",
    "    except TypeError:\n",
    "        print('Coach',coach_name, \"doesn't exist\")\n",
    "        return -1\n",
    "    \n",
    "def check_coach(Coach_ID):\n",
    "    cur=db.cursor()\n",
    "    cur.execute('''select id from teams where coach_id =?''',(Coach_ID,))\n",
    "    try:\n",
    "        team_id=cur.fetchone()[0]\n",
    "        return team_id\n",
    "    except TypeError:\n",
    "        return -1        \n",
    "    \n",
    "def add_Team(team_name, location,coach_name):\n",
    "    team_check = check_team(team_name)\n",
    "    if team_check != -1:\n",
    "        return -1\n",
    "    cur=db.cursor()\n",
    "    cur.execute( '''SELECT COALESCE(MAX(ID)+1, 1) FROM teams''')\n",
    "    Team_ID=cur.fetchone()[0]\n",
    "    Coach_ID = ID_Coach(coach_name) \n",
    "    if Coach_ID == -1:\n",
    "        return -1\n",
    "    Coach_check = check_coach(Coach_ID) \n",
    "    if  Coach_check != -1:\n",
    "        print('Coach',coach_name, '')\n",
    "        return -1\n",
    "    cur.execute('''INSERT INTO teams VALUES(?,?,?,?)''', (Team_ID,team_name,location,Coach_ID))\n",
    "    db.commit()"
   ]
  },
  {
   "cell_type": "code",
   "execution_count": 7,
   "metadata": {
    "collapsed": false
   },
   "outputs": [
    {
     "name": "stdout",
     "output_type": "stream",
     "text": [
      " * sqlite:///test1.db\n",
      "Done.\n"
     ]
    },
    {
     "data": {
      "text/html": [
       "<table>\n",
       "    <tr>\n",
       "        <th>id</th>\n",
       "        <th>Name</th>\n",
       "        <th>Location</th>\n",
       "        <th>Coach_id</th>\n",
       "    </tr>\n",
       "    <tr>\n",
       "        <td>1</td>\n",
       "        <td>LAGladiators</td>\n",
       "        <td>Los-Angeles</td>\n",
       "        <td>3</td>\n",
       "    </tr>\n",
       "    <tr>\n",
       "        <td>2</td>\n",
       "        <td>Dallas Fuel</td>\n",
       "        <td>Dallas</td>\n",
       "        <td>2</td>\n",
       "    </tr>\n",
       "    <tr>\n",
       "        <td>3</td>\n",
       "        <td>London Spitfire</td>\n",
       "        <td>London</td>\n",
       "        <td>4</td>\n",
       "    </tr>\n",
       "    <tr>\n",
       "        <td>4</td>\n",
       "        <td>Philadelphia Fusion</td>\n",
       "        <td>Philadelphia</td>\n",
       "        <td>1</td>\n",
       "    </tr>\n",
       "</table>"
      ],
      "text/plain": [
       "[(1, 'LAGladiators', 'Los-Angeles', '3'),\n",
       " (2, 'Dallas Fuel', 'Dallas', '2'),\n",
       " (3, 'London Spitfire', 'London', '4'),\n",
       " (4, 'Philadelphia Fusion', 'Philadelphia', '1')]"
      ]
     },
     "execution_count": 7,
     "metadata": {},
     "output_type": "execute_result"
    }
   ],
   "source": [
    "add_Team ('LAGladiators','Los-Angeles','Kim-Won');\n",
    "add_Team('Dallas Fuel','Dallas','Jayne');\n",
    "add_Team('London Spitfire','London','Sung-Khi');\n",
    "add_Team('Philadelphia Fusion','Philadelphia','SDBurn');\n",
    "%sql select * from teams"
   ]
  },
  {
   "cell_type": "code",
   "execution_count": 5,
   "metadata": {
    "collapsed": false
   },
   "outputs": [
    {
     "name": "stdout",
     "output_type": "stream",
     "text": [
      " * sqlite:///test1.db\n",
      "Done.\n"
     ]
    },
    {
     "data": {
      "text/html": [
       "<table>\n",
       "    <tr>\n",
       "        <th>id</th>\n",
       "        <th>name</th>\n",
       "    </tr>\n",
       "    <tr>\n",
       "        <td>1</td>\n",
       "        <td>SDBurn</td>\n",
       "    </tr>\n",
       "    <tr>\n",
       "        <td>2</td>\n",
       "        <td>Jayne</td>\n",
       "    </tr>\n",
       "    <tr>\n",
       "        <td>3</td>\n",
       "        <td>Kim-Won</td>\n",
       "    </tr>\n",
       "    <tr>\n",
       "        <td>4</td>\n",
       "        <td>Sung-Khi</td>\n",
       "    </tr>\n",
       "</table>"
      ],
      "text/plain": [
       "[(1, 'SDBurn'), (2, 'Jayne'), (3, 'Kim-Won'), (4, 'Sung-Khi')]"
      ]
     },
     "execution_count": 5,
     "metadata": {},
     "output_type": "execute_result"
    }
   ],
   "source": [
    "%%sql\n",
    "select * from coaches"
   ]
  },
  {
   "cell_type": "markdown",
   "metadata": {},
   "source": [
    "# Задание 5\n",
    "\n",
    "Написать функцию, осуществляющую обновление информации о команде. У функции на входе должен быть один обязательный параметр - название команды и два необязательных параметра - имя тренера и местоположение. При этом хотя бы один из необязательных параметров должен быть заполнен. Функция должна обновлять значение переданных необязательных параметров.\n",
    "\n",
    "После написания функции вызовите данную функцию несколько раз"
   ]
  },
  {
   "cell_type": "code",
   "execution_count": 8,
   "metadata": {
    "collapsed": false
   },
   "outputs": [],
   "source": [
    "def ID_team(team_name):\n",
    "    cur=db.cursor()\n",
    "    cur.execute('''select id from teams where name =?''',(team_name,))\n",
    "    try:\n",
    "        team_id=cur.fetchone()[0]\n",
    "        return team_id\n",
    "    except TypeError:\n",
    "        print('Team',team_name,\"doesn't exist\")\n",
    "        return -1   \n",
    "    \n",
    "def ID_coach(coach):\n",
    "    cur=db.cursor()\n",
    "    cur.execute('''select id from coaches where name =?''',(coach,))\n",
    "    try:\n",
    "        coach_id=cur.fetchone()[0]\n",
    "        return coach_id\n",
    "    except TypeError:\n",
    "        return -1      \n",
    "    \n",
    "def update_team(*args):\n",
    "    cur=db.cursor()\n",
    "    length=len(args)\n",
    "    commit_flag=0\n",
    "    team_name=args[0]\n",
    "    team_ID = ID_team(team_name) \n",
    "    if team_ID == -1:\n",
    "        return -1\n",
    "    coach_id=ID_coach(args[1]) \n",
    "    if coach_id == -1:\n",
    "        location=args[1]\n",
    "        commit_flag=1\n",
    "    else:\n",
    "        coach=args[1]\n",
    "        commit_flag=2\n",
    "    if length == 3:\n",
    "        location=args[2]\n",
    "        commit_flag=3\n",
    "    if commit_flag==1:\n",
    "         cur.execute('''update teams set location=? where name=?''', (location,team_name))\n",
    "    elif commit_flag==2:\n",
    "         cur.execute('''update teams set coach_id=? where name=?''', (coach_id,team_name))\n",
    "    else:\n",
    "         cur.execute('''update teams set location=?, coach_id=? where name=?''', (location,coach_id,team_name))\n",
    "    db.commit()"
   ]
  },
  {
   "cell_type": "code",
   "execution_count": 9,
   "metadata": {
    "collapsed": false
   },
   "outputs": [
    {
     "name": "stdout",
     "output_type": "stream",
     "text": [
      "Team SDragons doesn't exist\n"
     ]
    },
    {
     "data": {
      "text/plain": [
       "-1"
      ]
     },
     "execution_count": 9,
     "metadata": {},
     "output_type": "execute_result"
    }
   ],
   "source": [
    "update_team('London Spitfire','Busan')\n",
    "update_team('London Spitfire','Oge')\n",
    "update_team('SDragons')"
   ]
  },
  {
   "cell_type": "markdown",
   "metadata": {},
   "source": [
    "# Задание 6\n",
    "\n",
    "Написать функцию, осуществляющую добавление нового футболиста в таблицу игроков. На входе (имя, возраст, название позиции, название команды, дата перехода в команду(необязательный параметр)). Если дата перехода не указана, то нужно использовать текущую дату. Предусмотреть различные ошибки (такие как неверное имя позиции, неверное название команды, возраст < 10 и > 50 и т.п.)\n",
    "\n",
    "После написания функции необходимо добавить несколько игроков."
   ]
  },
  {
   "cell_type": "code",
   "execution_count": 10,
   "metadata": {
    "collapsed": false
   },
   "outputs": [],
   "source": [
    "import datetime\n",
    "\n",
    "def check_player(player_name):\n",
    "    cur=db.cursor()\n",
    "    cur.execute('''select id from Players where name =?''',(player_name,))\n",
    "    try:\n",
    "        player_id=cur.fetchone()[0]\n",
    "        print('Игрок',player_name, 'уже существует')\n",
    "        return player_id\n",
    "    except TypeError:\n",
    "        return -1\n",
    "\n",
    "def ID_position(position):\n",
    "    cur=db.cursor()\n",
    "    cur.execute('''select id from positions where name =?''',(position,))\n",
    "    try:\n",
    "        position_id=cur.fetchone()[0]\n",
    "        return position_id\n",
    "    except TypeError:\n",
    "        print('Позиции',position,'не существует')\n",
    "        return -1   \n",
    "    \n",
    "def ID_team(team_name):\n",
    "    cur=db.cursor()\n",
    "    cur.execute('''select id from teams where name =?''',(team_name,))\n",
    "    try:\n",
    "        team_id=cur.fetchone()[0]\n",
    "        return team_id\n",
    "    except TypeError:\n",
    "        print('Team',team_name,\"doesn't exist\")\n",
    "        return -1      \n",
    "    \n",
    "def update_player(*args):\n",
    "    length=len(args)\n",
    "    player_name=args[0]\n",
    "    player_check = check_player(player_name)\n",
    "    if player_check != -1:\n",
    "        return -1\n",
    "    cur=db.cursor()\n",
    "    cur.execute( '''SELECT COALESCE(MAX(ID)+1, 1) FROM Players''')\n",
    "    player_ID = cur.fetchone()[0]\n",
    "    age=args[1]\n",
    "    if age<10 or age>50:\n",
    "        print(player_name,'innaprop. age')\n",
    "        return -1\n",
    "    position=args[2]\n",
    "    position_ID = ID_position(position) \n",
    "    if position_ID == -1:\n",
    "        return -1\n",
    "    team=args[3]\n",
    "    team_ID = ID_team(team) \n",
    "    if team_ID == -1:\n",
    "        return -1\n",
    "    if length==4:\n",
    "        data = datetime.date.today()\n",
    "    else:\n",
    "        data=args[4]\n",
    "    cur.execute('''INSERT INTO Players VALUES(?,?,?,?,?,?)''', (player_ID,player_name,age,position_ID,team_ID,data))\n",
    "    db.commit()"
   ]
  },
  {
   "cell_type": "code",
   "execution_count": 11,
   "metadata": {
    "collapsed": false
   },
   "outputs": [
    {
     "name": "stdout",
     "output_type": "stream",
     "text": [
      "Arkady innaprop. age\n"
     ]
    }
   ],
   "source": [
    "update_player('George',15,'forward','LAGladiators','2017-03-12');\n",
    "update_player('Sawa',20,'goalkeeper','Philadelphia Fusion','2016-02-18');\n",
    "update_player('Arkady',9,'defender','Dallas Fuel','2015-12-30');\n",
    "update_player('Eugene',18,'midfielder','London Spitfire','2017-10-16');"
   ]
  },
  {
   "cell_type": "code",
   "execution_count": 12,
   "metadata": {
    "collapsed": false
   },
   "outputs": [
    {
     "name": "stdout",
     "output_type": "stream",
     "text": [
      " * sqlite:///test1.db\n",
      "Done.\n"
     ]
    },
    {
     "data": {
      "text/html": [
       "<table>\n",
       "    <tr>\n",
       "        <th>id</th>\n",
       "        <th>Name</th>\n",
       "        <th>Age</th>\n",
       "        <th>Position_id</th>\n",
       "        <th>Team_id</th>\n",
       "        <th>Start_date</th>\n",
       "    </tr>\n",
       "    <tr>\n",
       "        <td>1</td>\n",
       "        <td>George</td>\n",
       "        <td>15</td>\n",
       "        <td>4</td>\n",
       "        <td>1</td>\n",
       "        <td>2017-03-12</td>\n",
       "    </tr>\n",
       "    <tr>\n",
       "        <td>2</td>\n",
       "        <td>Sawa</td>\n",
       "        <td>20</td>\n",
       "        <td>1</td>\n",
       "        <td>4</td>\n",
       "        <td>2016-02-18</td>\n",
       "    </tr>\n",
       "    <tr>\n",
       "        <td>3</td>\n",
       "        <td>Eugene</td>\n",
       "        <td>18</td>\n",
       "        <td>3</td>\n",
       "        <td>3</td>\n",
       "        <td>2017-10-16</td>\n",
       "    </tr>\n",
       "</table>"
      ],
      "text/plain": [
       "[(1, 'George', 15, '4', '1', '2017-03-12'),\n",
       " (2, 'Sawa', 20, '1', '4', '2016-02-18'),\n",
       " (3, 'Eugene', 18, '3', '3', '2017-10-16')]"
      ]
     },
     "execution_count": 12,
     "metadata": {},
     "output_type": "execute_result"
    }
   ],
   "source": [
    "%sql select * from  Players"
   ]
  },
  {
   "cell_type": "markdown",
   "metadata": {},
   "source": [
    "# Задание 7\n",
    "Написать функцию для перевода игрока в другую команду. Данная функция должна осуществить архивирование текущей записи в таблице игроков в таблицу players_archive с заполнение end_date - датой начала игры за новую команду - 1 день. А также осуществлять изменение поля в таблице Players. При возникновении ошибки должен осуществляться полный откат транзакции."
   ]
  },
  {
   "cell_type": "code",
   "execution_count": 13,
   "metadata": {
    "collapsed": true
   },
   "outputs": [],
   "source": [
    "import datetime\n",
    "from dateutil import parser\n",
    "from datetime import timedelta\n",
    "from datetime import datetime\n",
    "\n",
    "def check_player(player_name):\n",
    "    cur=db.cursor()\n",
    "    cur.execute('''select id from Players where name =?''',(player_name,))\n",
    "    try:\n",
    "        player_id=cur.fetchone()[0]\n",
    "        return player_id\n",
    "    except TypeError:\n",
    "        print('Player',player_name,\"doesn't exist\")\n",
    "        return -1\n",
    "\n",
    "def translation(Pname, Tname, start_date):\n",
    "    player_name = Pname\n",
    "    player_id = check_player(player_name) \n",
    "    if player_id == -1:\n",
    "        return -1\n",
    "    \n",
    "    team = Tname\n",
    "    team_ID = ID_team(team) \n",
    "    if team_ID == -1:\n",
    "        return -1\n",
    "    \n",
    "    cur=db.cursor()\n",
    "    cur.execute('''select team_id from Players where name =?''',(player_name,))\n",
    "    team_id=cur.fetchone()[0]\n",
    "    cur.execute('''select start_date from Players where name =?''',(player_name,))\n",
    "    start_date_last = cur.fetchone()[0] \n",
    "    start_date_new = parser.parse(start_date)\n",
    "    end_date = (start_date_new + timedelta(-1)).date()\n",
    "    \n",
    "    date1 = datetime.strptime (start_date_last, '%Y-%m-%d')\n",
    "    if date1.year > end_date.year or (date1.year == end_date.year and date1.month > end_date.month) or (date1.year == end_date.year and date1.month == end_date.month and date1.day > end_date.day):\n",
    "        print(\"Date error\")\n",
    "        return -1;\n",
    "    \n",
    "    cur.execute('''INSERT INTO PlayersArchive VALUES(?,?,?,?)''', (player_id,team_id,start_date_last,end_date))\n",
    "    cur.execute('''update Players set team_id = ?, start_date = ?  where ID = ?''', (team_ID,start_date_new.date(),player_id ))\n",
    "    \n",
    "    db.commit()"
   ]
  },
  {
   "cell_type": "code",
   "execution_count": 14,
   "metadata": {
    "collapsed": false
   },
   "outputs": [],
   "source": [
    "translation('George', 'Dallas Fuel','2017-08-05')\n",
    "translation('George', 'London Spitfire', '2017-08-30')\n",
    "translation('George', 'LAGladiators', '2017-09-05')\n",
    "translation('George', 'London Spitfire', '2017-10-01')"
   ]
  },
  {
   "cell_type": "code",
   "execution_count": 15,
   "metadata": {
    "collapsed": false
   },
   "outputs": [
    {
     "name": "stdout",
     "output_type": "stream",
     "text": [
      " * sqlite:///test1.db\n",
      "Done.\n"
     ]
    },
    {
     "data": {
      "text/html": [
       "<table>\n",
       "    <tr>\n",
       "        <th>Player_id</th>\n",
       "        <th>Team_id</th>\n",
       "        <th>start_date</th>\n",
       "        <th>end_date</th>\n",
       "    </tr>\n",
       "    <tr>\n",
       "        <td>1</td>\n",
       "        <td>1</td>\n",
       "        <td>2017-03-12</td>\n",
       "        <td>2017-08-04</td>\n",
       "    </tr>\n",
       "    <tr>\n",
       "        <td>1</td>\n",
       "        <td>2</td>\n",
       "        <td>2017-08-05</td>\n",
       "        <td>2017-08-29</td>\n",
       "    </tr>\n",
       "    <tr>\n",
       "        <td>1</td>\n",
       "        <td>3</td>\n",
       "        <td>2017-08-30</td>\n",
       "        <td>2017-09-04</td>\n",
       "    </tr>\n",
       "    <tr>\n",
       "        <td>1</td>\n",
       "        <td>1</td>\n",
       "        <td>2017-09-05</td>\n",
       "        <td>2017-09-30</td>\n",
       "    </tr>\n",
       "</table>"
      ],
      "text/plain": [
       "[('1', '1', '2017-03-12', '2017-08-04'),\n",
       " ('1', '2', '2017-08-05', '2017-08-29'),\n",
       " ('1', '3', '2017-08-30', '2017-09-04'),\n",
       " ('1', '1', '2017-09-05', '2017-09-30')]"
      ]
     },
     "execution_count": 15,
     "metadata": {},
     "output_type": "execute_result"
    }
   ],
   "source": [
    "%sql select * from PlayersArchive"
   ]
  },
  {
   "cell_type": "code",
   "execution_count": null,
   "metadata": {
    "collapsed": true
   },
   "outputs": [],
   "source": [
    "12,23,31,12"
   ]
  }
 ],
 "metadata": {
  "kernelspec": {
   "display_name": "Python 3",
   "language": "python",
   "name": "python3"
  },
  "language_info": {
   "codemirror_mode": {
    "name": "ipython",
    "version": 3
   },
   "file_extension": ".py",
   "mimetype": "text/x-python",
   "name": "python",
   "nbconvert_exporter": "python",
   "pygments_lexer": "ipython3",
   "version": "3.6.0"
  }
 },
 "nbformat": 4,
 "nbformat_minor": 2
}
