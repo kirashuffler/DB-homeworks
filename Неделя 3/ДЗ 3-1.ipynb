{
 "cells": [
  {
   "cell_type": "markdown",
   "metadata": {},
   "source": [
    "Данное домашнее задание посвящено схеме базе данных, связанной с футбольным командами. Схема расположена в hw_diagram.jpg\n",
    "## Описание таблиц \n",
    "\n",
    "### Positions \n",
    "Позиции игроков\n",
    "id - уникальный идентификатор позиции \n",
    "Name - Название таблицы \n",
    "\n",
    "### Coaches \n",
    "Таблица тренеров \n",
    "id - уникальный идентификатор тренера\n",
    "Name - имя тренера \n",
    "\n",
    "## Teams \n",
    "Таблица команд \n",
    "id - уникальный идентификатор  команды \n",
    "Name - имя команды \n",
    "Location - расположение команды \n",
    "Coach_id - идентификатор тренера \n",
    "\n",
    "### Players \n",
    "Таблица игроков \n",
    "Id - уникальный идентификатор игрока \n",
    "Name - имя игрока \n",
    "Age - возраст игрока \n",
    "Position_id - идентификатор позиции \n",
    "Team_id - идентификатор команды \n",
    "Start_date - дата начала игры в команде \n",
    "\n",
    "### PlayersArchive \n",
    "Архив по игрокам (информация о том, в какой команде игрок играл ранее) \n",
    "player_id - идентификатор игрока \n",
    "team_id - идентификатор команды \n",
    "start_date - дата начала игры \n",
    "end_date - дата окончания игры"
   ]
  },
  {
   "cell_type": "markdown",
   "metadata": {},
   "source": [
    "# Задание 1\n",
    "Реализовать перенакатываемые sql-скрипты по схеме hw_diagram"
   ]
  },
  {
   "cell_type": "code",
   "execution_count": 15,
   "metadata": {
    "collapsed": false
   },
   "outputs": [
    {
     "data": {
      "text/plain": [
       "'Connected: @test1.db'"
      ]
     },
     "execution_count": 15,
     "metadata": {},
     "output_type": "execute_result"
    }
   ],
   "source": [
    "%reload_ext sql\n",
    "%sql sqlite:///test1.db"
   ]
  },
  {
   "cell_type": "markdown",
   "metadata": {},
   "source": [
    "# Задание 2\n",
    "Написать sql-скрипт, осуществляюший добавление всех возможных позиций игроков. (В данной задаче можно ограничится четырьмя - вратарь, защитник, полузащитник, нападающий)"
   ]
  },
  {
   "cell_type": "code",
   "execution_count": 16,
   "metadata": {
    "collapsed": false
   },
   "outputs": [
    {
     "name": "stdout",
     "output_type": "stream",
     "text": [
      "   sqlite:///chinook.db\n",
      " * sqlite:///test1.db\n",
      "Done.\n"
     ]
    },
    {
     "data": {
      "text/html": [
       "<table>\n",
       "    <tr>\n",
       "        <th>id</th>\n",
       "        <th>name</th>\n",
       "    </tr>\n",
       "    <tr>\n",
       "        <td>1</td>\n",
       "        <td>SDBurn</td>\n",
       "    </tr>\n",
       "    <tr>\n",
       "        <td>2</td>\n",
       "        <td>Jayne</td>\n",
       "    </tr>\n",
       "    <tr>\n",
       "        <td>3</td>\n",
       "        <td>Kim-Won</td>\n",
       "    </tr>\n",
       "    <tr>\n",
       "        <td>4</td>\n",
       "        <td>Sung-Khi</td>\n",
       "    </tr>\n",
       "    <tr>\n",
       "        <td>5</td>\n",
       "        <td>Kendrick</td>\n",
       "    </tr>\n",
       "</table>"
      ],
      "text/plain": [
       "[(1, 'SDBurn'), (2, 'Jayne'), (3, 'Kim-Won'), (4, 'Sung-Khi'), (5, 'Kendrick')]"
      ]
     },
     "execution_count": 16,
     "metadata": {},
     "output_type": "execute_result"
    }
   ],
   "source": [
    "%%sql\n",
    "select * from coaches"
   ]
  },
  {
   "cell_type": "markdown",
   "metadata": {},
   "source": [
    "# Задание 3\n",
    "Написать функцию на языке СИ, осуществляющую добавление тренера. На вход функции подается имя тренера. При невозможности вставки функция должна обработать данное исключение и вывести пользователю информацию о проблеме\n",
    "\n",
    "После написания функции необходимо добавить несколько тренеров для таблицы. \n"
   ]
  },
  {
   "cell_type": "code",
   "execution_count": null,
   "metadata": {
    "collapsed": true
   },
   "outputs": [],
   "source": []
  },
  {
   "cell_type": "markdown",
   "metadata": {},
   "source": [
    "# Задание 4\n",
    "\n",
    "Написать функцию, осуществляющую добавление команды на языке СИ. На вход функция принимает (имя команды, местоположение, имя тренера).\n",
    "На выходе должна быть добавлена команда.\n",
    "\n",
    "После написания функции необходимо добавить несколько команд"
   ]
  },
  {
   "cell_type": "code",
   "execution_count": null,
   "metadata": {
    "collapsed": true
   },
   "outputs": [],
   "source": []
  },
  {
   "cell_type": "markdown",
   "metadata": {},
   "source": [
    "# Задание 5\n",
    "Реализовать консольную команду, у которой есть 5 операций:\n",
    "Вызов функции на СИ Добавить тренера\n",
    "Вызов функции на СИ Добавить команду\n",
    "Вывод таблицы тренеров\n",
    "Вывод таблицы команд\n",
    "Выход из интерактивного режима\n"
   ]
  },
  {
   "cell_type": "code",
   "execution_count": null,
   "metadata": {
    "collapsed": true
   },
   "outputs": [],
   "source": []
  }
 ],
 "metadata": {
  "kernelspec": {
   "display_name": "Python 3",
   "language": "python",
   "name": "python3"
  },
  "language_info": {
   "codemirror_mode": {
    "name": "ipython",
    "version": 3
   },
   "file_extension": ".py",
   "mimetype": "text/x-python",
   "name": "python",
   "nbconvert_exporter": "python",
   "pygments_lexer": "ipython3",
   "version": "3.6.0"
  }
 },
 "nbformat": 4,
 "nbformat_minor": 2
}
