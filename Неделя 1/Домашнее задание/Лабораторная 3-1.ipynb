{
 "cells": [
  {
   "cell_type": "code",
   "execution_count": 2,
   "metadata": {
    "collapsed": false
   },
   "outputs": [
    {
     "data": {
      "text/plain": [
       "'Connected: @chinook.db'"
      ]
     },
     "execution_count": 2,
     "metadata": {},
     "output_type": "execute_result"
    }
   ],
   "source": [
    "%load_ext sql\n",
    "%sql sqlite:///chinook.db"
   ]
  },
  {
   "cell_type": "markdown",
   "metadata": {},
   "source": [
    "# Задание 1\n",
    "\n",
    "Вывести 10 самых больших по размеру треков жанра ROCK и формата MPEG (используйте limit)"
   ]
  },
  {
   "cell_type": "code",
   "execution_count": 25,
   "metadata": {
    "collapsed": false
   },
   "outputs": [
    {
     "name": "stdout",
     "output_type": "stream",
     "text": [
      " * sqlite:///chinook.db\n",
      "Done.\n"
     ]
    },
    {
     "data": {
      "text/html": [
       "<table>\n",
       "    <tr>\n",
       "        <th>Name</th>\n",
       "    </tr>\n",
       "    <tr>\n",
       "        <td>Dazed And Confused</td>\n",
       "    </tr>\n",
       "    <tr>\n",
       "        <td>Space Truckin&#x27;</td>\n",
       "    </tr>\n",
       "    <tr>\n",
       "        <td>Dazed And Confused</td>\n",
       "    </tr>\n",
       "    <tr>\n",
       "        <td>We&#x27;ve Got To Get Together/Jingo</td>\n",
       "    </tr>\n",
       "    <tr>\n",
       "        <td>Funky Piano</td>\n",
       "    </tr>\n",
       "    <tr>\n",
       "        <td>Going Down / Highway Star</td>\n",
       "    </tr>\n",
       "    <tr>\n",
       "        <td>Santana Jam</td>\n",
       "    </tr>\n",
       "    <tr>\n",
       "        <td>The Sun Road</td>\n",
       "    </tr>\n",
       "    <tr>\n",
       "        <td>Whole Lotta Love</td>\n",
       "    </tr>\n",
       "    <tr>\n",
       "        <td>Mistreated (Alternate Version)</td>\n",
       "    </tr>\n",
       "</table>"
      ],
      "text/plain": [
       "[('Dazed And Confused',),\n",
       " (\"Space Truckin'\",),\n",
       " ('Dazed And Confused',),\n",
       " (\"We've Got To Get Together/Jingo\",),\n",
       " ('Funky Piano',),\n",
       " ('Going Down / Highway Star',),\n",
       " ('Santana Jam',),\n",
       " ('The Sun Road',),\n",
       " ('Whole Lotta Love',),\n",
       " ('Mistreated (Alternate Version)',)]"
      ]
     },
     "execution_count": 25,
     "metadata": {},
     "output_type": "execute_result"
    }
   ],
   "source": [
    "%%sql\n",
    "select t.name from tracks t\n",
    "left join media_types m on t.MediaTypeId = m.MediaTypeId\n",
    "left join genres g on g.GenreId = t.GenreId\n",
    "where m.Name like '%mpeg%' and g.Name like 'ROCK'\n",
    "order by t.Bytes desc\n",
    "limit 10\n"
   ]
  },
  {
   "cell_type": "markdown",
   "metadata": {},
   "source": [
    "## Задание 2\n",
    "Вывести названия всех групп, их песен и названия их альбомов для всех треков жанра Рок, приобретенные сотрудниками Microsoft."
   ]
  },
  {
   "cell_type": "code",
   "execution_count": 32,
   "metadata": {
    "collapsed": false
   },
   "outputs": [
    {
     "name": "stdout",
     "output_type": "stream",
     "text": [
      " * sqlite:///chinook.db\n",
      "Done.\n"
     ]
    },
    {
     "data": {
      "text/html": [
       "<table>\n",
       "    <tr>\n",
       "        <th>Artist</th>\n",
       "        <th>Track</th>\n",
       "        <th>Album</th>\n",
       "    </tr>\n",
       "    <tr>\n",
       "        <td>Foo Fighters</td>\n",
       "        <td>No Way Back</td>\n",
       "        <td>In Your Honor [Disc 1]</td>\n",
       "    </tr>\n",
       "    <tr>\n",
       "        <td>Foo Fighters</td>\n",
       "        <td>Still</td>\n",
       "        <td>In Your Honor [Disc 2]</td>\n",
       "    </tr>\n",
       "    <tr>\n",
       "        <td>Foo Fighters</td>\n",
       "        <td>Razor</td>\n",
       "        <td>In Your Honor [Disc 2]</td>\n",
       "    </tr>\n",
       "    <tr>\n",
       "        <td>Foo Fighters</td>\n",
       "        <td>My Hero</td>\n",
       "        <td>The Colour And The Shape</td>\n",
       "    </tr>\n",
       "    <tr>\n",
       "        <td>Guns N&#x27; Roses</td>\n",
       "        <td>Double Talkin&#x27; Jive</td>\n",
       "        <td>Use Your Illusion I</td>\n",
       "    </tr>\n",
       "    <tr>\n",
       "        <td>Guns N&#x27; Roses</td>\n",
       "        <td>The Garden</td>\n",
       "        <td>Use Your Illusion I</td>\n",
       "    </tr>\n",
       "    <tr>\n",
       "        <td>Guns N&#x27; Roses</td>\n",
       "        <td>Don&#x27;t Damn Me</td>\n",
       "        <td>Use Your Illusion I</td>\n",
       "    </tr>\n",
       "    <tr>\n",
       "        <td>Guns N&#x27; Roses</td>\n",
       "        <td>Dead Horse</td>\n",
       "        <td>Use Your Illusion I</td>\n",
       "    </tr>\n",
       "</table>"
      ],
      "text/plain": [
       "[('Foo Fighters', 'No Way Back', 'In Your Honor [Disc 1]'),\n",
       " ('Foo Fighters', 'Still', 'In Your Honor [Disc 2]'),\n",
       " ('Foo Fighters', 'Razor', 'In Your Honor [Disc 2]'),\n",
       " ('Foo Fighters', 'My Hero', 'The Colour And The Shape'),\n",
       " (\"Guns N' Roses\", \"Double Talkin' Jive\", 'Use Your Illusion I'),\n",
       " (\"Guns N' Roses\", 'The Garden', 'Use Your Illusion I'),\n",
       " (\"Guns N' Roses\", \"Don't Damn Me\", 'Use Your Illusion I'),\n",
       " (\"Guns N' Roses\", 'Dead Horse', 'Use Your Illusion I')]"
      ]
     },
     "execution_count": 32,
     "metadata": {},
     "output_type": "execute_result"
    }
   ],
   "source": [
    "%%sql\n",
    "select artists.name as \"Artist\", tracks.Name as \"Track\", Title as \"Album\" \n",
    "from tracks\n",
    "left join albums on tracks.AlbumId = albums.AlbumId\n",
    "left join artists on artists.ArtistId = albums.ArtistId\n",
    "left join genres on tracks.GenreId = genres.GenreId\n",
    "left join invoice_items on invoice_items.TrackId = tracks.TrackId\n",
    "left join invoices on invoices.InvoiceId = invoice_items.InvoiceId\n",
    "left join customers on customers.CustomerId = invoices.CustomerId\n",
    "where genres.Name = \"Rock\" and customers.Company like 'Microsoft%'\n"
   ]
  },
  {
   "cell_type": "markdown",
   "metadata": {},
   "source": [
    "## Задание 3\n",
    "Для каждого набора (жанр, тип медиа) вывести среднюю цену по стоимости трека и общее количество, причем вывести только те наборы, для которых все треку стоят больше 1,5$.\n"
   ]
  },
  {
   "cell_type": "code",
   "execution_count": 7,
   "metadata": {
    "collapsed": false
   },
   "outputs": [
    {
     "name": "stdout",
     "output_type": "stream",
     "text": [
      " * sqlite:///chinook.db\n",
      "Done.\n"
     ]
    },
    {
     "data": {
      "text/html": [
       "<table>\n",
       "    <tr>\n",
       "        <th>Genre</th>\n",
       "        <th>Media_type</th>\n",
       "        <th>avg(Price)</th>\n",
       "    </tr>\n",
       "    <tr>\n",
       "        <td>Comedy</td>\n",
       "        <td>Protected MPEG-4 video file</td>\n",
       "        <td>1.9899999999999995</td>\n",
       "    </tr>\n",
       "    <tr>\n",
       "        <td>Drama</td>\n",
       "        <td>Protected MPEG-4 video file</td>\n",
       "        <td>1.989999999999998</td>\n",
       "    </tr>\n",
       "    <tr>\n",
       "        <td>Sci Fi &amp; Fantasy</td>\n",
       "        <td>Protected MPEG-4 video file</td>\n",
       "        <td>1.9900000000000004</td>\n",
       "    </tr>\n",
       "    <tr>\n",
       "        <td>Science Fiction</td>\n",
       "        <td>Protected MPEG-4 video file</td>\n",
       "        <td>1.9899999999999995</td>\n",
       "    </tr>\n",
       "    <tr>\n",
       "        <td>TV Shows</td>\n",
       "        <td>Protected MPEG-4 video file</td>\n",
       "        <td>1.990000000000001</td>\n",
       "    </tr>\n",
       "</table>"
      ],
      "text/plain": [
       "[('Comedy', 'Protected MPEG-4 video file', 1.9899999999999995),\n",
       " ('Drama', 'Protected MPEG-4 video file', 1.989999999999998),\n",
       " ('Sci Fi & Fantasy', 'Protected MPEG-4 video file', 1.9900000000000004),\n",
       " ('Science Fiction', 'Protected MPEG-4 video file', 1.9899999999999995),\n",
       " ('TV Shows', 'Protected MPEG-4 video file', 1.990000000000001)]"
      ]
     },
     "execution_count": 7,
     "metadata": {},
     "output_type": "execute_result"
    }
   ],
   "source": [
    "%%sql\n",
    "select Genre, Media_type, avg(Price) from\n",
    "(select genres.Name as \"Genre\",\n",
    "media_types.Name as \"Media_type\", tracks.UnitPrice as \"Price\"\n",
    "from tracks\n",
    "left join genres on tracks.GenreId = genres.GenreId\n",
    "left join media_types on media_types.MediaTypeId = tracks.MediaTypeId\n",
    "group by tracks.Name)\n",
    "group by Genre\n",
    "having min(Price) > 1.5\n"
   ]
  },
  {
   "cell_type": "markdown",
   "metadata": {},
   "source": [
    "## Задание 4\n",
    "Вывести компании, сделавшие максимальное и минимальное число заказов."
   ]
  },
  {
   "cell_type": "code",
   "execution_count": 8,
   "metadata": {
    "collapsed": false
   },
   "outputs": [
    {
     "name": "stdout",
     "output_type": "stream",
     "text": [
      " * sqlite:///chinook.db\n",
      "Done.\n"
     ]
    },
    {
     "data": {
      "text/html": [
       "<table>\n",
       "    <tr>\n",
       "        <th>Company</th>\n",
       "        <th>Count</th>\n",
       "    </tr>\n",
       "    <tr>\n",
       "        <td>None</td>\n",
       "        <td>0</td>\n",
       "    </tr>\n",
       "    <tr>\n",
       "        <td>Apple Inc.</td>\n",
       "        <td>7</td>\n",
       "    </tr>\n",
       "    <tr>\n",
       "        <td>Banco do Brasil S.A.</td>\n",
       "        <td>7</td>\n",
       "    </tr>\n",
       "    <tr>\n",
       "        <td>Embraer - Empresa Brasileira de Aeronáutica S.A.</td>\n",
       "        <td>7</td>\n",
       "    </tr>\n",
       "    <tr>\n",
       "        <td>Google Inc.</td>\n",
       "        <td>7</td>\n",
       "    </tr>\n",
       "    <tr>\n",
       "        <td>JetBrains s.r.o.</td>\n",
       "        <td>7</td>\n",
       "    </tr>\n",
       "    <tr>\n",
       "        <td>Microsoft Corporation</td>\n",
       "        <td>7</td>\n",
       "    </tr>\n",
       "    <tr>\n",
       "        <td>Riotur</td>\n",
       "        <td>7</td>\n",
       "    </tr>\n",
       "    <tr>\n",
       "        <td>Rogers Canada</td>\n",
       "        <td>7</td>\n",
       "    </tr>\n",
       "    <tr>\n",
       "        <td>Telus</td>\n",
       "        <td>7</td>\n",
       "    </tr>\n",
       "    <tr>\n",
       "        <td>Woodstock Discos</td>\n",
       "        <td>7</td>\n",
       "    </tr>\n",
       "</table>"
      ],
      "text/plain": [
       "[(None, 0),\n",
       " ('Apple Inc.', 7),\n",
       " ('Banco do Brasil S.A.', 7),\n",
       " ('Embraer - Empresa Brasileira de Aeronáutica S.A.', 7),\n",
       " ('Google Inc.', 7),\n",
       " ('JetBrains s.r.o.', 7),\n",
       " ('Microsoft Corporation', 7),\n",
       " ('Riotur', 7),\n",
       " ('Rogers Canada', 7),\n",
       " ('Telus', 7),\n",
       " ('Woodstock Discos', 7)]"
      ]
     },
     "execution_count": 8,
     "metadata": {},
     "output_type": "execute_result"
    }
   ],
   "source": [
    "%%sql\n",
    "select Company, Count from \n",
    "(select Company, count(Company) as \"Count\" from\n",
    "invoices\n",
    "left join customers on customers.CustomerId = invoices.CustomerId\n",
    "group by Company) \n",
    "where \n",
    "Count = (select max(Count) from \n",
    "(select count(Company) as \"Count\" from\n",
    "invoices\n",
    "left join customers on customers.CustomerId = invoices.CustomerId\n",
    "group by Company) \n",
    ")\n",
    "or Count = (select min(Count) from \n",
    "(select count(Company) as \"Count\" from\n",
    "invoices\n",
    "left join customers on customers.CustomerId = invoices.CustomerId\n",
    "group by Company) \n",
    ")\n"
   ]
  },
  {
   "cell_type": "markdown",
   "metadata": {},
   "source": [
    "## Задание 5\n",
    "Для каждой компании вывести общее количестов песен, купленных по жанру поп-музыки"
   ]
  },
  {
   "cell_type": "code",
   "execution_count": 6,
   "metadata": {
    "collapsed": false
   },
   "outputs": [
    {
     "name": "stdout",
     "output_type": "stream",
     "text": [
      " * sqlite:///chinook.db\n",
      "Done.\n"
     ]
    },
    {
     "data": {
      "text/html": [
       "<table>\n",
       "    <tr>\n",
       "        <th>Company</th>\n",
       "        <th>sum(invoice_items.Quantity)</th>\n",
       "    </tr>\n",
       "    <tr>\n",
       "        <td>Embraer - Empresa Brasileira de Aeronáutica S.A.</td>\n",
       "        <td>2</td>\n",
       "    </tr>\n",
       "    <tr>\n",
       "        <td>JetBrains s.r.o.</td>\n",
       "        <td>4</td>\n",
       "    </tr>\n",
       "</table>"
      ],
      "text/plain": [
       "[('Embraer - Empresa Brasileira de Aeronáutica S.A.', 2),\n",
       " ('JetBrains s.r.o.', 4)]"
      ]
     },
     "execution_count": 6,
     "metadata": {},
     "output_type": "execute_result"
    }
   ],
   "source": [
    "%%sql\n",
    "select Company, sum(invoice_items.Quantity) from\n",
    "invoices\n",
    "left join invoice_items on invoices.InvoiceId = invoice_items.InvoiceId\n",
    "left join customers on customers.CustomerId = invoices.CustomerId\n",
    "left join tracks on tracks.TrackId = invoice_items.TrackId\n",
    "left join genres on genres.GenreId = tracks.GenreId\n",
    "\n",
    "where genres.Name LIKE 'Pop' and Company != \"None\"\n",
    "group by Company"
   ]
  },
  {
   "cell_type": "raw",
   "metadata": {
    "collapsed": true
   },
   "source": []
  },
  {
   "cell_type": "markdown",
   "metadata": {},
   "source": [
    "## Задание 6\n",
    "Вывести средний размер альбома в байтах."
   ]
  },
  {
   "cell_type": "code",
   "execution_count": 87,
   "metadata": {
    "collapsed": false
   },
   "outputs": [
    {
     "name": "stdout",
     "output_type": "stream",
     "text": [
      " * sqlite:///chinook.db\n",
      "Done.\n"
     ]
    },
    {
     "data": {
      "text/html": [
       "<table>\n",
       "    <tr>\n",
       "        <th>Average</th>\n",
       "    </tr>\n",
       "    <tr>\n",
       "        <td>338288920.3170029</td>\n",
       "    </tr>\n",
       "</table>"
      ],
      "text/plain": [
       "[(338288920.3170029,)]"
      ]
     },
     "execution_count": 87,
     "metadata": {},
     "output_type": "execute_result"
    }
   ],
   "source": [
    "%%sql\n",
    "select avg(bytes) as \"Average\" from \n",
    "(select sum(Bytes) as \"bytes\" from\n",
    "tracks\n",
    "left join albums on tracks.AlbumId = albums.AlbumId\n",
    "group by albums.Title)"
   ]
  },
  {
   "cell_type": "code",
   "execution_count": null,
   "metadata": {
    "collapsed": true
   },
   "outputs": [],
   "source": []
  }
 ],
 "metadata": {
  "kernelspec": {
   "display_name": "Python 3",
   "language": "python",
   "name": "python3"
  },
  "language_info": {
   "codemirror_mode": {
    "name": "ipython",
    "version": 3
   },
   "file_extension": ".py",
   "mimetype": "text/x-python",
   "name": "python",
   "nbconvert_exporter": "python",
   "pygments_lexer": "ipython3",
   "version": "3.6.0"
  }
 },
 "nbformat": 4,
 "nbformat_minor": 2
}
