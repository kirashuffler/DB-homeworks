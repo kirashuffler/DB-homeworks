{
 "cells": [
  {
   "cell_type": "markdown",
   "metadata": {
    "collapsed": true
   },
   "source": [
    "# Домашнее задание 2 \n",
    "\n",
    "Необходимо реализовать схему, указанную в hw_diagram.pdf \n"
   ]
  },
  {
   "cell_type": "markdown",
   "metadata": {},
   "source": [
    "## Описание таблиц \n",
    "PeopleStatus - Описание возможных статусов людей, которые есть в университете (Студент, Преподаватель).\n",
    "Faculties - Описание факультетов, которые есть в университете (KIB, IT, и т.д.).\n",
    "People - Информация о людях в университете (Имя, почта, ссылка на факультет, ссылка на статус).\n",
    "Classes - Описание возможных классов в университете (название (Математический анализ) и ссылка на факультет).\n",
    "Semesters - Справочник семестров факультета(например, Осень2016, '2016-01-01', '2016-12-31').\n",
    "ClassesSchedule - Расписание классов (ссылки на семестр, преподавателя и курс, день недели, время начала).\n",
    "StudentsSchedule - Таблица, описывающая, какой студент ходит на какой курс."
   ]
  },
  {
   "cell_type": "code",
   "execution_count": 11,
   "metadata": {
    "collapsed": false
   },
   "outputs": [
    {
     "name": "stdout",
     "output_type": "stream",
     "text": [
      "The sql extension is already loaded. To reload it, use:\n",
      "  %reload_ext sql\n"
     ]
    },
    {
     "data": {
      "text/plain": [
       "'Connected: @chinook1.db'"
      ]
     },
     "execution_count": 11,
     "metadata": {},
     "output_type": "execute_result"
    }
   ],
   "source": [
    "%load_ext sql\n",
    "%sql sqlite:///chinook1.db"
   ]
  },
  {
   "cell_type": "markdown",
   "metadata": {},
   "source": [
    "## Создание таблиц\n",
    "Напишет ниже скрипты по созданию таблиц с учетом всех внешних ключей."
   ]
  },
  {
   "cell_type": "code",
   "execution_count": 15,
   "metadata": {
    "collapsed": false
   },
   "outputs": [
    {
     "name": "stdout",
     "output_type": "stream",
     "text": [
      "   sqlite:///chinook.db\n",
      " * sqlite:///chinook1.db\n",
      "Done.\n"
     ]
    },
    {
     "data": {
      "text/plain": [
       "[]"
      ]
     },
     "execution_count": 15,
     "metadata": {},
     "output_type": "execute_result"
    }
   ],
   "source": [
    "%%sql\n",
    "PRAGMA foreign_keys = ON"
   ]
  },
  {
   "cell_type": "code",
   "execution_count": 23,
   "metadata": {
    "collapsed": false
   },
   "outputs": [
    {
     "name": "stdout",
     "output_type": "stream",
     "text": [
      "   sqlite:///chinook.db\n",
      " * sqlite:///chinook1.db\n",
      "Done.\n",
      "Done.\n",
      "0 rows affected.\n",
      "Done.\n",
      "Done.\n",
      "0 rows affected.\n",
      "0 rows affected.\n",
      "0 rows affected.\n",
      "0 rows affected.\n",
      "0 rows affected.\n",
      "0 rows affected.\n",
      "0 rows affected.\n",
      "0 rows affected.\n",
      "0 rows affected.\n"
     ]
    },
    {
     "data": {
      "text/plain": [
       "[]"
      ]
     },
     "execution_count": 23,
     "metadata": {},
     "output_type": "execute_result"
    }
   ],
   "source": [
    "%%sql\n",
    "DROP TABLE if exists StudentsSchedule;\n",
    "DROP TABLE if exists ClassesShedule;\n",
    "DROP TABLE if exists People;\n",
    "DROP TABLE if exists Classes;\n",
    "DROP TABLE if exists Semesters;\n",
    "\n",
    "DROP TABLE if exists PeopleStatus;\n",
    "\n",
    "\n",
    "DROP TABLE if exists Faculties;\n",
    "CREATE TABLE PeopleStatus (ID integer(0,0) NOT NULL Primary key, name varchar(0,0)); \n",
    "\n",
    "CREATE TABLE People (ID integer(0,0) NOT NULL Primary key,\n",
    "                    name varchar(0,0) NOT NULL,\n",
    "                    email varchar(0,0),\n",
    "                    fac_id integer(0,0) NOT NULL,\n",
    "                    status_id integer(0,0) NOT NULL,\n",
    "                    FOREIGN KEY (status_id) REFERENCES PeopleStatus(ID),\n",
    "                    FOREIGN KEY (fac_id) REFERENCES Faculties(ID));\n",
    "\n",
    "CREATE TABLE ClassesShedule (ID integer(0,0) NOT NULL Primary key, \n",
    "                            class_id integer(0,0) NOT NULL,\n",
    "                            teacher_id integer(0,0) NOT NULL,\n",
    "                            semester_id integer(0,0) NOT NULL,\n",
    "                            week_day integer(0,0),\n",
    "                            time_start varchar(0,0),\n",
    "                            FOREIGN KEY (semester_id) REFERENCES Semesters(ID),\n",
    "                            FOREIGN KEY (class_id) REFERENCES Classes(ID),\n",
    "                            FOREIGN KEY (teacher_id) REFERENCES People(ID));\n",
    "\n",
    "CREATE TABLE Faculties (ID integer(0,0) NOT NULL Primary key,\n",
    "                        name varchar(0,0) NOT NULL);\n",
    "\n",
    "CREATE TABLE StudentsSchedule (student_id integer(0,0) NOT NULL,\n",
    "                               ClassesSchedule_id integer(0,0) NOT NULL, \n",
    "                               FOREIGN KEY (student_id) REFERENCES People (ID),\n",
    "                               FOREIGN KEY (ClassesSchedule_id) REFERENCES ClassesShedule (ID));\n",
    "\n",
    "CREATE TABLE Semesters (ID integer(0,0) NOT NULL Primary key, \n",
    "                        shortname varchar(0,0), \n",
    "                        date_start date(0,0), \n",
    "                        date_end date(0,0)); \n",
    "\n",
    "CREATE TABLE Classes (ID integer(0,0) NOT NULL Primary key, \n",
    "                      description varchar(0,0),\n",
    "                      fuc_id integer(0,0) NOT NULL,\n",
    "                      FOREIGN KEY (fuc_id) REFERENCES Faculties(ID));"
   ]
  },
  {
   "cell_type": "markdown",
   "metadata": {},
   "source": [
    "## Добавление записей в таблицы\n",
    "Приведите примеры добавления записей в каждую из таблиц\n"
   ]
  },
  {
   "cell_type": "code",
   "execution_count": 17,
   "metadata": {
    "collapsed": false
   },
   "outputs": [
    {
     "name": "stdout",
     "output_type": "stream",
     "text": [
      "   sqlite:///chinook.db\n",
      " * sqlite:///chinook1.db\n",
      "1 rows affected.\n",
      "1 rows affected.\n",
      "Done.\n"
     ]
    },
    {
     "data": {
      "text/html": [
       "<table>\n",
       "    <tr>\n",
       "        <th>ID</th>\n",
       "        <th>name</th>\n",
       "    </tr>\n",
       "    <tr>\n",
       "        <td>1</td>\n",
       "        <td>student</td>\n",
       "    </tr>\n",
       "    <tr>\n",
       "        <td>2</td>\n",
       "        <td>teacher</td>\n",
       "    </tr>\n",
       "</table>"
      ],
      "text/plain": [
       "[(1, 'student'), (2, 'teacher')]"
      ]
     },
     "execution_count": 17,
     "metadata": {},
     "output_type": "execute_result"
    }
   ],
   "source": [
    "%%sql \n",
    "INSERT INTO PeopleStatus (ID,name) VALUES (1,'student');\n",
    "INSERT INTO PeopleStatus (ID,name) VALUES (2,'teacher');\n",
    "select * \n",
    "from PeopleStatus\n",
    "order by id"
   ]
  },
  {
   "cell_type": "code",
   "execution_count": 18,
   "metadata": {
    "collapsed": false
   },
   "outputs": [
    {
     "name": "stdout",
     "output_type": "stream",
     "text": [
      "   sqlite:///chinook.db\n",
      " * sqlite:///chinook1.db\n",
      "1 rows affected.\n",
      "1 rows affected.\n",
      "1 rows affected.\n",
      "1 rows affected.\n",
      "Done.\n"
     ]
    },
    {
     "data": {
      "text/html": [
       "<table>\n",
       "    <tr>\n",
       "        <th>ID</th>\n",
       "        <th>name</th>\n",
       "    </tr>\n",
       "    <tr>\n",
       "        <td>1</td>\n",
       "        <td>Cyber</td>\n",
       "    </tr>\n",
       "    <tr>\n",
       "        <td>2</td>\n",
       "        <td>FTI</td>\n",
       "    </tr>\n",
       "    <tr>\n",
       "        <td>3</td>\n",
       "        <td>Fizteh</td>\n",
       "    </tr>\n",
       "    <tr>\n",
       "        <td>4</td>\n",
       "        <td>Economy</td>\n",
       "    </tr>\n",
       "</table>"
      ],
      "text/plain": [
       "[(1, 'Cyber'), (2, 'FTI'), (3, 'Fizteh'), (4, 'Economy')]"
      ]
     },
     "execution_count": 18,
     "metadata": {},
     "output_type": "execute_result"
    }
   ],
   "source": [
    "%%sql \n",
    "INSERT INTO Faculties (ID, name) VALUES (1,'Cyber');\n",
    "INSERT INTO Faculties (ID, name) VALUES (2,'FTI');\n",
    "INSERT INTO Faculties VALUES (3,'Fizteh');\n",
    "INSERT INTO Faculties VALUES (4,'Economy');\n",
    "\n",
    "select *\n",
    "from Faculties"
   ]
  },
  {
   "cell_type": "code",
   "execution_count": 19,
   "metadata": {
    "collapsed": false
   },
   "outputs": [
    {
     "name": "stdout",
     "output_type": "stream",
     "text": [
      "   sqlite:///chinook.db\n",
      " * sqlite:///chinook1.db\n",
      "1 rows affected.\n",
      "1 rows affected.\n",
      "1 rows affected.\n",
      "Done.\n"
     ]
    },
    {
     "data": {
      "text/html": [
       "<table>\n",
       "    <tr>\n",
       "        <th>ID</th>\n",
       "        <th>name</th>\n",
       "        <th>email</th>\n",
       "        <th>fac_id</th>\n",
       "        <th>status_id</th>\n",
       "    </tr>\n",
       "    <tr>\n",
       "        <td>1</td>\n",
       "        <td>Abzalov Azamat</td>\n",
       "        <td>kirashuffler@gmail.com</td>\n",
       "        <td>1</td>\n",
       "        <td>1</td>\n",
       "    </tr>\n",
       "    <tr>\n",
       "        <td>2</td>\n",
       "        <td>Petrov Vlad</td>\n",
       "        <td>vladpro@mail.ru</td>\n",
       "        <td>1</td>\n",
       "        <td>2</td>\n",
       "    </tr>\n",
       "    <tr>\n",
       "        <td>3</td>\n",
       "        <td>Ivashkov Vlad</td>\n",
       "        <td>dreamveawer3x@mail.ru</td>\n",
       "        <td>2</td>\n",
       "        <td>1</td>\n",
       "    </tr>\n",
       "</table>"
      ],
      "text/plain": [
       "[(1, 'Abzalov Azamat', 'kirashuffler@gmail.com', 1, 1),\n",
       " (2, 'Petrov Vlad', 'vladpro@mail.ru', 1, 2),\n",
       " (3, 'Ivashkov Vlad', 'dreamveawer3x@mail.ru', 2, 1)]"
      ]
     },
     "execution_count": 19,
     "metadata": {},
     "output_type": "execute_result"
    }
   ],
   "source": [
    "%%sql \n",
    "INSERT INTO People VALUES (1,'Abzalov Azamat', 'kirashuffler@gmail.com', 1, 1);\n",
    "INSERT INTO People VALUES (2, 'Petrov Vlad', 'vladpro@mail.ru', 1, 2);\n",
    "INSERT INTO People VALUES (3, 'Ivashkov Vlad', 'dreamveawer3x@mail.ru', 2, 1);\n",
    "\n",
    "select * \n",
    "from People\n",
    "order by id"
   ]
  },
  {
   "cell_type": "code",
   "execution_count": null,
   "metadata": {
    "collapsed": true
   },
   "outputs": [],
   "source": []
  }
 ],
 "metadata": {
  "kernelspec": {
   "display_name": "Python 3",
   "language": "python",
   "name": "python3"
  },
  "language_info": {
   "codemirror_mode": {
    "name": "ipython",
    "version": 3
   },
   "file_extension": ".py",
   "mimetype": "text/x-python",
   "name": "python",
   "nbconvert_exporter": "python",
   "pygments_lexer": "ipython3",
   "version": "3.6.0"
  }
 },
 "nbformat": 4,
 "nbformat_minor": 2
}
