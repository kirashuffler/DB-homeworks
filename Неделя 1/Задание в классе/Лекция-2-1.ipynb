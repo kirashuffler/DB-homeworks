{
 "cells": [
  {
   "cell_type": "code",
   "execution_count": 94,
   "metadata": {
    "collapsed": false
   },
   "outputs": [
    {
     "name": "stdout",
     "output_type": "stream",
     "text": [
      "The sql extension is already loaded. To reload it, use:\n",
      "  %reload_ext sql\n"
     ]
    },
    {
     "data": {
      "text/plain": [
       "'Connected: None@chinook.db'"
      ]
     },
     "execution_count": 94,
     "metadata": {},
     "output_type": "execute_result"
    }
   ],
   "source": [
    "%load_ext sql\n",
    "%sql sqlite:///chinook.db"
   ]
  },
  {
   "cell_type": "markdown",
   "metadata": {},
   "source": [
    "# Передача переменных python в sql\n",
    "Можно передать переменную из python в sql"
   ]
  },
  {
   "cell_type": "code",
   "execution_count": 95,
   "metadata": {
    "collapsed": false
   },
   "outputs": [
    {
     "name": "stdout",
     "output_type": "stream",
     "text": [
      "Done.\n"
     ]
    },
    {
     "data": {
      "text/html": [
       "<table>\n",
       "    <tr>\n",
       "        <th>GenreId</th>\n",
       "        <th>Name</th>\n",
       "    </tr>\n",
       "    <tr>\n",
       "        <td>9</td>\n",
       "        <td>Pop</td>\n",
       "    </tr>\n",
       "</table>"
      ],
      "text/plain": [
       "[(9, 'Pop')]"
      ]
     },
     "execution_count": 95,
     "metadata": {},
     "output_type": "execute_result"
    }
   ],
   "source": [
    "a = 'Pop'\n",
    "\n",
    "%sql select * from genres where Name = :a"
   ]
  },
  {
   "cell_type": "markdown",
   "metadata": {},
   "source": [
    "Можно присвоить результат запроса в переменную"
   ]
  },
  {
   "cell_type": "code",
   "execution_count": 96,
   "metadata": {
    "collapsed": false
   },
   "outputs": [
    {
     "name": "stdout",
     "output_type": "stream",
     "text": [
      "Done.\n"
     ]
    }
   ],
   "source": [
    "a = %sql select * from genres"
   ]
  },
  {
   "cell_type": "code",
   "execution_count": 92,
   "metadata": {
    "collapsed": false
   },
   "outputs": [
    {
     "data": {
      "text/plain": [
       "sql.run.ResultSet"
      ]
     },
     "execution_count": 92,
     "metadata": {},
     "output_type": "execute_result"
    }
   ],
   "source": [
    "type(a)"
   ]
  },
  {
   "cell_type": "code",
   "execution_count": 93,
   "metadata": {
    "collapsed": false
   },
   "outputs": [
    {
     "name": "stdout",
     "output_type": "stream",
     "text": [
      "+---------+--------------------+\n",
      "| GenreId |        Name        |\n",
      "+---------+--------------------+\n",
      "|    1    |        Rock        |\n",
      "|    2    |        Jazz        |\n",
      "|    3    |       Metal        |\n",
      "|    4    | Alternative & Punk |\n",
      "|    5    |   Rock And Roll    |\n",
      "|    6    |       Blues        |\n",
      "|    7    |       Latin        |\n",
      "|    8    |       Reggae       |\n",
      "|    9    |        Pop         |\n",
      "|    10   |     Soundtrack     |\n",
      "|    11   |     Bossa Nova     |\n",
      "|    12   |   Easy Listening   |\n",
      "|    13   |    Heavy Metal     |\n",
      "|    14   |      R&B/Soul      |\n",
      "|    15   | Electronica/Dance  |\n",
      "|    16   |       World        |\n",
      "|    17   |    Hip Hop/Rap     |\n",
      "|    18   |  Science Fiction   |\n",
      "|    19   |      TV Shows      |\n",
      "|    20   |  Sci Fi & Fantasy  |\n",
      "|    21   |       Drama        |\n",
      "|    22   |       Comedy       |\n",
      "|    23   |    Alternative     |\n",
      "|    24   |     Classical      |\n",
      "|    25   |       Opera        |\n",
      "+---------+--------------------+\n"
     ]
    }
   ],
   "source": [
    "print(a)"
   ]
  },
  {
   "cell_type": "markdown",
   "metadata": {},
   "source": [
    "# Другой способ соединения\n",
    "использование библиотеки sqlite3"
   ]
  },
  {
   "cell_type": "code",
   "execution_count": 97,
   "metadata": {
    "collapsed": true
   },
   "outputs": [],
   "source": [
    "import sqlite3"
   ]
  },
  {
   "cell_type": "code",
   "execution_count": 84,
   "metadata": {
    "collapsed": false
   },
   "outputs": [],
   "source": [
    "# Создаем БД в RAM\n",
    "db=sqlite3.connect(':memory:')\n",
    "# После окончания работы не забываем закрыть соединение\n",
    "db.close()"
   ]
  },
  {
   "cell_type": "code",
   "execution_count": 85,
   "metadata": {
    "collapsed": false
   },
   "outputs": [],
   "source": [
    "# Создаем или открываем бд \n",
    "db=sqlite3.connect('testdb')\n",
    "# Закрываем бд\n",
    "db.close()\n"
   ]
  },
  {
   "cell_type": "markdown",
   "metadata": {},
   "source": [
    "## Создание (CREATE) и Удаление (DROP) таблиц. \n",
    "\n",
    "Для того, чтобы выполнить любую операцию с базой данных необходимо создать объект __cursor__ и передать SQL-выражение в объект __cursor__, чтобы вызвать его. В конце необходимо выполнить выполнить commit (заметьте, что commit выполняется для db объекта, а не __cursor__ объекта)"
   ]
  },
  {
   "cell_type": "code",
   "execution_count": 98,
   "metadata": {
    "collapsed": true
   },
   "outputs": [],
   "source": [
    "db=sqlite3.connect('testdb')"
   ]
  },
  {
   "cell_type": "code",
   "execution_count": 99,
   "metadata": {
    "collapsed": false
   },
   "outputs": [],
   "source": [
    "# Получить cursor объекта\n",
    "cursor = db.cursor()\n",
    "cursor.execute('''\n",
    "    DROP TABLE IF EXISTS users\n",
    "''');\n",
    "\n",
    "cursor.execute('''\n",
    "    CREATE TABLE users(id INTEGER PRIMARY KEY, name TEXT,\n",
    "                       phone TEXT, email TEXT UNIQUE, password TEXT);\n",
    "''')\n",
    "db.commit()"
   ]
  },
  {
   "cell_type": "markdown",
   "metadata": {},
   "source": [
    "## Вставка (INSERT) данных в базу данных\n",
    "Для вставки данных мы используем cursor для выполнения запроса. Если требуется вставка данных из python, то можно использовать \"?\". Не используйте строчные операторы или конкатенацию для создания запросов, потому что это не безопасно."
   ]
  },
  {
   "cell_type": "code",
   "execution_count": 100,
   "metadata": {
    "collapsed": false
   },
   "outputs": [
    {
     "name": "stdout",
     "output_type": "stream",
     "text": [
      "First user inserted\n",
      "Second user inserted\n"
     ]
    }
   ],
   "source": [
    "cursor=db.cursor()\n",
    "name1 = 'Andrew'\n",
    "phone1 = '123232'\n",
    "email1 = 'user@example.com'\n",
    "password1 = '12345'\n",
    "\n",
    "name2 = 'John'\n",
    "phone2 = '234241'\n",
    "email2 = 'john@example.com'\n",
    "password2 = 'abcdef'\n",
    "\n",
    "# Insert user 1\n",
    "cursor.execute('''INSERT INTO users(name, phone, email, password)\n",
    "                  VALUES(?,?,?,?)''', (name1, phone1, email1, password1))\n",
    "print('First user inserted')\n",
    "\n",
    "# Insert user 2\n",
    "cursor.execute('''INSERT INTO users(name, phone, email, password)\n",
    "                  VALUES(?,?,?,?)''', (name2, phone2, email2, password2))\n",
    "print('Second user inserted')\n",
    "\n",
    "db.commit()\n"
   ]
  },
  {
   "cell_type": "markdown",
   "metadata": {},
   "source": [
    "Значения переменных python подставляются через кортеж. Другой способ - через словарь, используя ':'"
   ]
  },
  {
   "cell_type": "code",
   "execution_count": 101,
   "metadata": {
    "collapsed": false
   },
   "outputs": [
    {
     "name": "stdout",
     "output_type": "stream",
     "text": [
      "Third user inserted\n"
     ]
    }
   ],
   "source": [
    "name3 = 'Nikita'\n",
    "phone3 = '323232'\n",
    "email3 = 'nikita@example.com'\n",
    "password3 = '123'\n",
    "\n",
    "cursor = db.cursor()\n",
    "cursor.execute('''INSERT INTO users(name, phone, email, password)\n",
    "                  VALUES(:name, :phone, :email, :password)''',\n",
    "              {'name':name3, 'phone':phone3, 'email':email3, 'password':password3})\n",
    "\n",
    "print('Third user inserted')\n",
    "\n",
    "db.commit()\n"
   ]
  },
  {
   "cell_type": "code",
   "execution_count": 103,
   "metadata": {
    "collapsed": false
   },
   "outputs": [
    {
     "name": "stderr",
     "output_type": "stream",
     "text": [
      "ERROR:root:An unexpected error occurred while tokenizing input\n",
      "The following traceback may be corrupted or invalid\n",
      "The error message is: ('EOF in multi-line string', (1, 62))\n",
      "\n"
     ]
    },
    {
     "ename": "ProgrammingError",
     "evalue": "Incorrect number of bindings supplied. The current statement uses 4, and there are 0 supplied.",
     "output_type": "error",
     "traceback": [
      "\u001b[0;31m---------------------------------------------------------------------------\u001b[0m",
      "\u001b[0;31mProgrammingError\u001b[0m                          Traceback (most recent call last)",
      "\u001b[0;32m<ipython-input-103-7f6f65d5dd1d>\u001b[0m in \u001b[0;36m<module>\u001b[0;34m()\u001b[0m\n\u001b[1;32m      6\u001b[0m \u001b[0mcursor\u001b[0m \u001b[1;33m=\u001b[0m \u001b[0mdb\u001b[0m\u001b[1;33m.\u001b[0m\u001b[0mcursor\u001b[0m\u001b[1;33m(\u001b[0m\u001b[1;33m)\u001b[0m\u001b[1;33m\u001b[0m\u001b[0m\n\u001b[1;32m      7\u001b[0m cursor.execute('''INSERT INTO users(name, phone, email, password)\n\u001b[0;32m----> 8\u001b[0;31m                   VALUES(:name3, :phone3, :email3, :password3)''')\n\u001b[0m\u001b[1;32m      9\u001b[0m \u001b[1;33m\u001b[0m\u001b[0m\n\u001b[1;32m     10\u001b[0m \u001b[0mprint\u001b[0m\u001b[1;33m(\u001b[0m\u001b[1;34m'Third user inserted'\u001b[0m\u001b[1;33m)\u001b[0m\u001b[1;33m\u001b[0m\u001b[0m\n",
      "\u001b[0;31mProgrammingError\u001b[0m: Incorrect number of bindings supplied. The current statement uses 4, and there are 0 supplied."
     ]
    }
   ],
   "source": [
    "name3 = 'Nikita'\n",
    "phone3 = '323232'\n",
    "email3 = 'nikita@example.com'\n",
    "password3 = '123'\n",
    "\n",
    "cursor = db.cursor()\n",
    "cursor.execute('''INSERT INTO users(name, phone, email, password)\n",
    "                  VALUES(:name3, :phone3, :email3, :password3)''')\n",
    "\n",
    "print('Third user inserted')\n",
    "\n",
    "db.commit()\n"
   ]
  },
  {
   "cell_type": "markdown",
   "metadata": {},
   "source": [
    "Если вы хотите вставить нескольо пользователей в таблицу, используйте __executemany__ и список из кортежей"
   ]
  },
  {
   "cell_type": "code",
   "execution_count": 104,
   "metadata": {
    "collapsed": false
   },
   "outputs": [],
   "source": [
    "name4 = 'Ann'\n",
    "phone4 = '490904'\n",
    "email4 = 'ann@example.com'\n",
    "password4 = '345'\n",
    "\n",
    "name5 = 'Jane'\n",
    "phone5 = '809908'\n",
    "email5 = 'jane@example.com'\n",
    "password5 = '785'\n",
    "\n",
    "users = [(name4, phone4, email4, password4),\n",
    "         (name5, phone5, email5, password5)]\n",
    "cursor.executemany('''INSERT INTO users(name, phone, email, password) VALUES (?,?,?,?)''', users)\n",
    "db.commit()\n"
   ]
  },
  {
   "cell_type": "markdown",
   "metadata": {},
   "source": [
    "Если вам требуется получить ид строки, которую вы только что добавили, используйте __lastrowid__"
   ]
  },
  {
   "cell_type": "code",
   "execution_count": 46,
   "metadata": {
    "collapsed": false
   },
   "outputs": [
    {
     "name": "stdout",
     "output_type": "stream",
     "text": [
      "Last row id: 3\n"
     ]
    }
   ],
   "source": [
    "id = cursor.lastrowid\n",
    "print('Last row id: %d' % id)"
   ]
  },
  {
   "cell_type": "markdown",
   "metadata": {},
   "source": [
    "## Получение данных (SELECT) с SQLite\n",
    "Чтобы получить данные, необходимо выполнить fetchone для выбора одной строки или fetchall для всех строк"
   ]
  },
  {
   "cell_type": "code",
   "execution_count": 47,
   "metadata": {
    "collapsed": false
   },
   "outputs": [
    {
     "name": "stdout",
     "output_type": "stream",
     "text": [
      "Andrew\n",
      "John : john@example.com, 234241\n",
      "Nikita : nikita@example.com, 323232\n",
      "Ann : ann@example.com, 490904\n",
      "Jane : jane@example.com, 809908\n"
     ]
    }
   ],
   "source": [
    "cursor.execute('''SELECT name, email, phone FROM users''')\n",
    "user1 = cursor.fetchone() # получить одну строку\n",
    "print(user1[0])\n",
    "all_rows = cursor.fetchall()\n",
    "for row in all_rows:\n",
    "    # row[0] возращает первый столбец - name, row[1] - email, row[2] - phone\n",
    "    print('{0} : {1}, {2}'.format(row[0], row[1], row[2]))"
   ]
  },
  {
   "cell_type": "markdown",
   "metadata": {},
   "source": [
    "Объект cursor работает как итератор, вызывая fetchall() автоматически"
   ]
  },
  {
   "cell_type": "code",
   "execution_count": 48,
   "metadata": {
    "collapsed": false
   },
   "outputs": [
    {
     "name": "stdout",
     "output_type": "stream",
     "text": [
      "Andrew : user@example.com, 123232\n",
      "John : john@example.com, 234241\n",
      "Nikita : nikita@example.com, 323232\n",
      "Ann : ann@example.com, 490904\n",
      "Jane : jane@example.com, 809908\n"
     ]
    }
   ],
   "source": [
    "cursor.execute('''SELECT name, email, phone FROM users''')\n",
    "for row in cursor:\n",
    "    print('{0} : {1}, {2}'.format(row[0], row[1], row[2]))"
   ]
  },
  {
   "cell_type": "markdown",
   "metadata": {},
   "source": [
    "Чтобы получить данные с условиями, используйте '?'"
   ]
  },
  {
   "cell_type": "code",
   "execution_count": 51,
   "metadata": {
    "collapsed": false
   },
   "outputs": [
    {
     "name": "stdout",
     "output_type": "stream",
     "text": [
      "Nikita nikita@example.com 323232\n"
     ]
    }
   ],
   "source": [
    "user_id=3\n",
    "cursor.execute('''SELECT name, email, phone FROM users WHERE id=?''', (user_id,))\n",
    "user=cursor.fetchone()\n",
    "print (user[0], user[1], user[2])"
   ]
  },
  {
   "cell_type": "markdown",
   "metadata": {},
   "source": [
    "## Обновление (UPDATE) и удаление (DELETE) данных\n",
    "Процедура аналогична вставке данных"
   ]
  },
  {
   "cell_type": "code",
   "execution_count": 55,
   "metadata": {
    "collapsed": false
   },
   "outputs": [],
   "source": [
    "# Обновить пользователя с id = 1\n",
    "newphone = '77777'\n",
    "userid = 1\n",
    "cursor.execute('''UPDATE users SET phone = ? WHERE id = ?''', (newphone, userid))\n",
    "\n",
    "# Удалить пользователя с id = 2\n",
    "delete_userid = 2\n",
    "cursor.execute('''DELETE FROM users WHERE id = ?''', (delete_userid,))\n",
    "\n",
    "db.commit()"
   ]
  },
  {
   "cell_type": "markdown",
   "metadata": {},
   "source": [
    "## Использование SQLite транзакций\n",
    "Транзакции очень важное свойство баз данных. Они обеспечивают атомарность БД. Используйте __commit__ для сохранения изменений."
   ]
  },
  {
   "cell_type": "code",
   "execution_count": 56,
   "metadata": {
    "collapsed": true
   },
   "outputs": [],
   "source": [
    "cursor.execute('''UPDATE users SET phone = ? WHERE id = ? ''', (newphone, userid))\n",
    "db.commit()"
   ]
  },
  {
   "cell_type": "markdown",
   "metadata": {},
   "source": [
    "Или __rollback__ для отмены изменений"
   ]
  },
  {
   "cell_type": "code",
   "execution_count": 58,
   "metadata": {
    "collapsed": false
   },
   "outputs": [],
   "source": [
    "cursor.execute('''UPDATE users SET phone = ? WHERE id = ?''', (newphone, userid))\n",
    "db.rollback()"
   ]
  },
  {
   "cell_type": "markdown",
   "metadata": {},
   "source": [
    "Помните, что всегда требуется сохранить изменения. Если вы закроете соединение или соединение будет потеряно, то ваши изменения\n",
    "не будут внесены"
   ]
  },
  {
   "cell_type": "code",
   "execution_count": 60,
   "metadata": {
    "collapsed": true
   },
   "outputs": [],
   "source": [
    "db.close()"
   ]
  },
  {
   "cell_type": "markdown",
   "metadata": {},
   "source": [
    "## Исключения SQLite\n",
    "Для best practices всегда оборачивайте операции баз данных в try или context manager"
   ]
  },
  {
   "cell_type": "code",
   "execution_count": 105,
   "metadata": {
    "collapsed": false
   },
   "outputs": [
    {
     "name": "stderr",
     "output_type": "stream",
     "text": [
      "ERROR:root:An unexpected error occurred while tokenizing input\n",
      "The following traceback may be corrupted or invalid\n",
      "The error message is: ('EOF in multi-line string', (1, 74))\n",
      "\n"
     ]
    },
    {
     "name": "stdout",
     "output_type": "stream",
     "text": [
      "we are here\n"
     ]
    },
    {
     "ename": "OperationalError",
     "evalue": "table users already exists",
     "output_type": "error",
     "traceback": [
      "\u001b[0;31m---------------------------------------------------------------------------\u001b[0m",
      "\u001b[0;31mOperationalError\u001b[0m                          Traceback (most recent call last)",
      "\u001b[0;32m<ipython-input-105-891f0997594b>\u001b[0m in \u001b[0;36m<module>\u001b[0;34m()\u001b[0m\n\u001b[1;32m      9\u001b[0m     \u001b[0mdb\u001b[0m\u001b[1;33m.\u001b[0m\u001b[0mrollback\u001b[0m\u001b[1;33m(\u001b[0m\u001b[1;33m)\u001b[0m\u001b[1;33m\u001b[0m\u001b[0m\n\u001b[1;32m     10\u001b[0m     \u001b[0mprint\u001b[0m\u001b[1;33m(\u001b[0m\u001b[1;34m'we are here'\u001b[0m\u001b[1;33m)\u001b[0m\u001b[1;33m\u001b[0m\u001b[0m\n\u001b[0;32m---> 11\u001b[0;31m     \u001b[1;32mraise\u001b[0m \u001b[0me\u001b[0m\u001b[1;33m\u001b[0m\u001b[0m\n\u001b[0m\u001b[1;32m     12\u001b[0m \u001b[1;32mfinally\u001b[0m\u001b[1;33m:\u001b[0m\u001b[1;33m\u001b[0m\u001b[0m\n\u001b[1;32m     13\u001b[0m     \u001b[0mdb\u001b[0m\u001b[1;33m.\u001b[0m\u001b[0mclose\u001b[0m\u001b[1;33m(\u001b[0m\u001b[1;33m)\u001b[0m\u001b[1;33m\u001b[0m\u001b[0m\n",
      "\u001b[0;32m<ipython-input-105-891f0997594b>\u001b[0m in \u001b[0;36m<module>\u001b[0;34m()\u001b[0m\n\u001b[1;32m      4\u001b[0m     \u001b[0mcursor\u001b[0m\u001b[1;33m=\u001b[0m\u001b[0mdb\u001b[0m\u001b[1;33m.\u001b[0m\u001b[0mcursor\u001b[0m\u001b[1;33m(\u001b[0m\u001b[1;33m)\u001b[0m\u001b[1;33m\u001b[0m\u001b[0m\n\u001b[1;32m      5\u001b[0m     cursor.execute('''CREATE TABLE users(id INTEGER PRIMARY KEY, name TEXT \n\u001b[0;32m----> 6\u001b[0;31m                                          email TEXT unique, password TEXT)''')\n\u001b[0m\u001b[1;32m      7\u001b[0m     \u001b[0mdb\u001b[0m\u001b[1;33m.\u001b[0m\u001b[0mcommit\u001b[0m\u001b[1;33m(\u001b[0m\u001b[1;33m)\u001b[0m\u001b[1;33m\u001b[0m\u001b[0m\n\u001b[1;32m      8\u001b[0m \u001b[1;32mexcept\u001b[0m \u001b[0mException\u001b[0m \u001b[1;32mas\u001b[0m \u001b[0me\u001b[0m\u001b[1;33m:\u001b[0m\u001b[1;33m\u001b[0m\u001b[0m\n",
      "\u001b[0;31mOperationalError\u001b[0m: table users already exists"
     ]
    }
   ],
   "source": [
    "import sqlite3\n",
    "try:\n",
    "    db=sqlite3.connect('testdb')\n",
    "    cursor=db.cursor()\n",
    "    cursor.execute('''CREATE TABLE users(id INTEGER PRIMARY KEY, name TEXT \n",
    "                                         email TEXT unique, password TEXT)''')\n",
    "    db.commit()\n",
    "except Exception as e:\n",
    "    db.rollback()\n",
    "    print('we are here')\n",
    "    raise e \n",
    "finally:\n",
    "    db.close()"
   ]
  },
  {
   "cell_type": "markdown",
   "metadata": {},
   "source": [
    "В этом примере мы используем try/except/finally для того, чтобы \"поймать\" исключение в коде. Служебное слово __finally__ - очень важно, потому что благодаря ему коннект к бд закрывается корректно. Более подробно [здесь](http://pythoncentral.io/catching-python-exceptions-the-try-except-else-keywords/).\n",
    "\n",
    "Используя except as Exception, мы ловим _все_ исключения. Обычно в production коде необходимо \"ловить\" определенное исключение. [Ссылка](https://www.python.org/dev/peps/pep-0249/#exceptions)"
   ]
  },
  {
   "cell_type": "markdown",
   "metadata": {},
   "source": [
    "Можно использовать объект Connection для автоматического commit'а и rollback'а"
   ]
  },
  {
   "cell_type": "code",
   "execution_count": 106,
   "metadata": {
    "collapsed": false
   },
   "outputs": [
    {
     "name": "stdout",
     "output_type": "stream",
     "text": [
      "Record already exists\n"
     ]
    }
   ],
   "source": [
    "name1 = 'Andres'\n",
    "phone1 = '333658'\n",
    "email1 = 'user@example.com'\n",
    "password1 = '12345'\n",
    "\n",
    "try:\n",
    "    db=sqlite3.connect('testdb')\n",
    "    with db:\n",
    "        db.execute('''INSERT INTO users(name, phone, email, password)\n",
    "                      VALUES(?,?,?,?)''', (name1, phone1, email1, password1))\n",
    "except sqlite3.IntegrityError:\n",
    "    print('Record already exists')\n",
    "finally:\n",
    "    db.close()"
   ]
  },
  {
   "cell_type": "markdown",
   "metadata": {},
   "source": [
    "В пример выше, если insert вызывает исключение, для транзакции будет совершен откат и сообщение будет написано, иначе транзакция будет выполнена. Заметьте, что в данном случае мы вызываем execute на db объект."
   ]
  },
  {
   "cell_type": "code",
   "execution_count": 77,
   "metadata": {
    "collapsed": false
   },
   "outputs": [
    {
     "name": "stdout",
     "output_type": "stream",
     "text": [
      "Done.\n"
     ]
    },
    {
     "data": {
      "text/html": [
       "<table>\n",
       "    <tr>\n",
       "        <th>Company</th>\n",
       "    </tr>\n",
       "    <tr>\n",
       "        <td>Embraer - Empresa Brasileira de Aeronáutica S.A.</td>\n",
       "    </tr>\n",
       "    <tr>\n",
       "        <td>JetBrains s.r.o.</td>\n",
       "    </tr>\n",
       "    <tr>\n",
       "        <td>Woodstock Discos</td>\n",
       "    </tr>\n",
       "    <tr>\n",
       "        <td>Banco do Brasil S.A.</td>\n",
       "    </tr>\n",
       "    <tr>\n",
       "        <td>Riotur</td>\n",
       "    </tr>\n",
       "    <tr>\n",
       "        <td>Telus</td>\n",
       "    </tr>\n",
       "    <tr>\n",
       "        <td>Rogers Canada</td>\n",
       "    </tr>\n",
       "    <tr>\n",
       "        <td>Google Inc.</td>\n",
       "    </tr>\n",
       "    <tr>\n",
       "        <td>Microsoft Corporation</td>\n",
       "    </tr>\n",
       "    <tr>\n",
       "        <td>Apple Inc.</td>\n",
       "    </tr>\n",
       "</table>"
      ],
      "text/plain": [
       "[('Embraer - Empresa Brasileira de Aeronáutica S.A.',),\n",
       " ('JetBrains s.r.o.',),\n",
       " ('Woodstock Discos',),\n",
       " ('Banco do Brasil S.A.',),\n",
       " ('Riotur',),\n",
       " ('Telus',),\n",
       " ('Rogers Canada',),\n",
       " ('Google Inc.',),\n",
       " ('Microsoft Corporation',),\n",
       " ('Apple Inc.',)]"
      ]
     },
     "execution_count": 77,
     "metadata": {},
     "output_type": "execute_result"
    }
   ],
   "source": [
    "%%sql\n",
    "select company\n",
    "FROM invoices \n",
    "    join customers\n",
    "    ON invoices.customerid = customers.customerid\n",
    "WHERE customers.company <> 'None'\n",
    "group by customers.customerid, customers.company\n",
    "having count(*)\n",
    "in\n",
    "(\n",
    "select min(cnt) from \n",
    "(\n",
    "select count(*) as cnt\n",
    "FROM invoices\n",
    "group by customerid\n",
    ") A \n",
    "\n",
    "UNION ALL\n",
    "\n",
    "select max(cnt) from \n",
    "(\n",
    "select count(*) as cnt\n",
    "FROM invoices\n",
    "group by customerid\n",
    ") A \n",
    ")\n"
   ]
  },
  {
   "cell_type": "code",
   "execution_count": null,
   "metadata": {
    "collapsed": true
   },
   "outputs": [],
   "source": []
  }
 ],
 "metadata": {
  "kernelspec": {
   "display_name": "Python 3",
   "language": "python",
   "name": "python3"
  },
  "language_info": {
   "codemirror_mode": {
    "name": "ipython",
    "version": 3
   },
   "file_extension": ".py",
   "mimetype": "text/x-python",
   "name": "python",
   "nbconvert_exporter": "python",
   "pygments_lexer": "ipython3",
   "version": "3.6.0"
  }
 },
 "nbformat": 4,
 "nbformat_minor": 2
}
