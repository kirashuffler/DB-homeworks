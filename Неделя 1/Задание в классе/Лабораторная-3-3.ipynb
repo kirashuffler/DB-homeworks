{
 "cells": [
  {
   "cell_type": "code",
   "execution_count": 1,
   "metadata": {
    "collapsed": false,
    "slideshow": {
     "slide_type": "skip"
    }
   },
   "outputs": [
    {
     "data": {
      "text/plain": [
       "'Connected: None@dataset_1.db'"
      ]
     },
     "execution_count": 1,
     "metadata": {},
     "output_type": "execute_result"
    }
   ],
   "source": [
    "%load_ext sql\n",
    "%sql sqlite:///dataset_1.db"
   ]
  },
  {
   "cell_type": "markdown",
   "metadata": {},
   "source": [
    "Лабораторная 3-3\n",
    "------------\n"
   ]
  },
  {
   "cell_type": "markdown",
   "metadata": {
    "collapsed": true
   },
   "source": [
    "Задание #1\n",
    "-----------\n",
    "\n",
    "Таблицы\n",
    "\n",
    "`bagel`, \n",
    "> * name STRING\n",
    "> * price FLOAT\n",
    "> * made_by STRING\n",
    "\n",
    "`purchase`:\n",
    "> * bagel_name STRING\n",
    "> * franchise STRING\n",
    "> * date INT\n",
    "> * quantity INT\n",
    "> * purchaser_age INT\n",
    "\n",
    "`purchase.bagel_name` ->`bagel.name` и `purchase.franchise` ->`bagel.made_by`.\n",
    "\n",
    "**Можно ли ты выяснить - были ли какие-либо покупки товаров, не входящих ни в 1 из официальных списков компании пончиков, используя только один sql запрос**\n",
    "\n",
    "Write your query here:"
   ]
  },
  {
   "cell_type": "code",
   "execution_count": 7,
   "metadata": {
    "collapsed": false
   },
   "outputs": [
    {
     "name": "stdout",
     "output_type": "stream",
     "text": [
      "Done.\n"
     ]
    },
    {
     "data": {
      "text/html": [
       "<table>\n",
       "    <tr>\n",
       "        <th>name</th>\n",
       "        <th>price</th>\n",
       "        <th>made_by</th>\n",
       "    </tr>\n",
       "    <tr>\n",
       "        <td>Plain with shmear</td>\n",
       "        <td>1.99</td>\n",
       "        <td>Bobs Bagels</td>\n",
       "    </tr>\n",
       "    <tr>\n",
       "        <td>Egg with shmear</td>\n",
       "        <td>2.39</td>\n",
       "        <td>Bobs Bagels</td>\n",
       "    </tr>\n",
       "    <tr>\n",
       "        <td>eBagel Drinkable Bagel</td>\n",
       "        <td>27.99</td>\n",
       "        <td>eBagel</td>\n",
       "    </tr>\n",
       "    <tr>\n",
       "        <td>eBagel Expansion Pack</td>\n",
       "        <td>1.99</td>\n",
       "        <td>eBagel</td>\n",
       "    </tr>\n",
       "    <tr>\n",
       "        <td>Plain with shmear</td>\n",
       "        <td>0.99</td>\n",
       "        <td>BAGEL CORP</td>\n",
       "    </tr>\n",
       "    <tr>\n",
       "        <td>Organic Flax-seed bagel chips</td>\n",
       "        <td>0.99</td>\n",
       "        <td>BAGEL CORP</td>\n",
       "    </tr>\n",
       "</table>"
      ],
      "text/plain": [
       "[('Plain with shmear', 1.99, 'Bobs Bagels'),\n",
       " ('Egg with shmear', 2.39, 'Bobs Bagels'),\n",
       " ('eBagel Drinkable Bagel', 27.99, 'eBagel'),\n",
       " ('eBagel Expansion Pack', 1.99, 'eBagel'),\n",
       " ('Plain with shmear', 0.99, 'BAGEL CORP'),\n",
       " ('Organic Flax-seed bagel chips', 0.99, 'BAGEL CORP')]"
      ]
     },
     "execution_count": 7,
     "metadata": {},
     "output_type": "execute_result"
    }
   ],
   "source": [
    "%sql select * from bagel"
   ]
  },
  {
   "cell_type": "code",
   "execution_count": 8,
   "metadata": {
    "collapsed": false
   },
   "outputs": [
    {
     "name": "stdout",
     "output_type": "stream",
     "text": [
      "Done.\n"
     ]
    },
    {
     "data": {
      "text/html": [
       "<table>\n",
       "    <tr>\n",
       "        <th>bagel_name</th>\n",
       "        <th>franchise</th>\n",
       "        <th>date</th>\n",
       "        <th>quantity</th>\n",
       "        <th>purchaser_age</th>\n",
       "    </tr>\n",
       "    <tr>\n",
       "        <td>Plain with shmear</td>\n",
       "        <td>Bobs Bagels</td>\n",
       "        <td>1</td>\n",
       "        <td>12</td>\n",
       "        <td>28</td>\n",
       "    </tr>\n",
       "    <tr>\n",
       "        <td>Egg with shmear</td>\n",
       "        <td>Bobs Bagels</td>\n",
       "        <td>2</td>\n",
       "        <td>6</td>\n",
       "        <td>47</td>\n",
       "    </tr>\n",
       "    <tr>\n",
       "        <td>Plain with shmear</td>\n",
       "        <td>BAGEL CORP</td>\n",
       "        <td>2</td>\n",
       "        <td>12</td>\n",
       "        <td>24</td>\n",
       "    </tr>\n",
       "    <tr>\n",
       "        <td>Plain with shmear</td>\n",
       "        <td>BAGEL CORP</td>\n",
       "        <td>3</td>\n",
       "        <td>1</td>\n",
       "        <td>17</td>\n",
       "    </tr>\n",
       "    <tr>\n",
       "        <td>eBagel Expansion Pack</td>\n",
       "        <td>eBagel</td>\n",
       "        <td>1</td>\n",
       "        <td>137</td>\n",
       "        <td>5</td>\n",
       "    </tr>\n",
       "    <tr>\n",
       "        <td>Plain with shmear</td>\n",
       "        <td>Bobs Bagels</td>\n",
       "        <td>4</td>\n",
       "        <td>24</td>\n",
       "        <td>None</td>\n",
       "    </tr>\n",
       "    <tr>\n",
       "        <td>Drugs</td>\n",
       "        <td>BAGEL CORP</td>\n",
       "        <td>7</td>\n",
       "        <td>1000</td>\n",
       "        <td>37</td>\n",
       "    </tr>\n",
       "</table>"
      ],
      "text/plain": [
       "[('Plain with shmear', 'Bobs Bagels', 1, 12, 28),\n",
       " ('Egg with shmear', 'Bobs Bagels', 2, 6, 47),\n",
       " ('Plain with shmear', 'BAGEL CORP', 2, 12, 24),\n",
       " ('Plain with shmear', 'BAGEL CORP', 3, 1, 17),\n",
       " ('eBagel Expansion Pack', 'eBagel', 1, 137, 5),\n",
       " ('Plain with shmear', 'Bobs Bagels', 4, 24, None),\n",
       " ('Drugs', 'BAGEL CORP', 7, 1000, 37)]"
      ]
     },
     "execution_count": 8,
     "metadata": {},
     "output_type": "execute_result"
    }
   ],
   "source": [
    "%sql select * from purchase"
   ]
  },
  {
   "cell_type": "code",
   "execution_count": null,
   "metadata": {
    "collapsed": true
   },
   "outputs": [],
   "source": []
  }
 ],
 "metadata": {
  "kernelspec": {
   "display_name": "Python 3",
   "language": "python",
   "name": "python3"
  },
  "language_info": {
   "codemirror_mode": {
    "name": "ipython",
    "version": 3
   },
   "file_extension": ".py",
   "mimetype": "text/x-python",
   "name": "python",
   "nbconvert_exporter": "python",
   "pygments_lexer": "ipython3",
   "version": "3.6.0"
  }
 },
 "nbformat": 4,
 "nbformat_minor": 0
}
